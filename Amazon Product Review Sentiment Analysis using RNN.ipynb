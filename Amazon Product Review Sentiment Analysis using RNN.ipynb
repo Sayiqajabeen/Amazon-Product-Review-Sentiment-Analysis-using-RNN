{
 "cells": [
  {
   "cell_type": "code",
   "execution_count": 1,
   "id": "f3395757-d6b1-40a8-8e78-852ea539765a",
   "metadata": {},
   "outputs": [],
   "source": [
    "import pandas as pd\n",
    "import numpy as np\n",
    "import matplotlib.pyplot as plt\n",
    "import re\n",
    "import seaborn as sns\n",
    "import nltk\n",
    "from nltk.corpus import stopwords\n",
    "from nltk.tokenize import word_tokenize\n",
    "import tensorflow as tf\n",
    "from tensorflow.keras.layers import SimpleRNN, LSTM, Dense, Dropout, Embedding,  BatchNormalization\n",
    "from tensorflow.keras.models import Sequential\n",
    "from tensorflow.keras.preprocessing.text import Tokenizer\n",
    "from tensorflow.keras.utils import pad_sequences\n",
    "\n",
    "import warnings\n",
    "warnings.filterwarnings('ignore')\n"
   ]
  },
  {
   "cell_type": "code",
   "execution_count": 2,
   "id": "af97d29d-f19d-44af-85ed-ae906e74f15c",
   "metadata": {},
   "outputs": [
    {
     "name": "stdout",
     "output_type": "stream",
     "text": [
      "(25000, 2)\n",
      "<class 'pandas.core.frame.DataFrame'>\n",
      "RangeIndex: 25000 entries, 0 to 24999\n",
      "Data columns (total 2 columns):\n",
      " #   Column     Non-Null Count  Dtype \n",
      "---  ------     --------------  ----- \n",
      " 0   Review     24999 non-null  object\n",
      " 1   Sentiment  25000 non-null  int64 \n",
      "dtypes: int64(1), object(1)\n",
      "memory usage: 390.8+ KB\n",
      "None\n"
     ]
    }
   ],
   "source": [
    "data = pd.read_csv('Amazon_Review.csv')\n",
    "\n",
    "# Printing shape of the dataset\n",
    "print(data.shape)\n",
    "# printing columns and rows information\n",
    "print(data.info())"
   ]
  },
  {
   "cell_type": "code",
   "execution_count": 3,
   "id": "f1d4d0c7-bf89-4368-8bbb-99ee181e59db",
   "metadata": {},
   "outputs": [
    {
     "name": "stdout",
     "output_type": "stream",
     "text": [
      "Null Values:\n",
      " Review       1\n",
      "Sentiment    0\n",
      "dtype: int64\n",
      "Null Values after dropping:\n",
      " Review       0\n",
      "Sentiment    0\n",
      "dtype: int64\n"
     ]
    }
   ],
   "source": [
    "# looking for NULL values\n",
    "print(\"Null Values:\\n\", data.isna().sum())\n",
    "\n",
    "# dropping null values\n",
    "data = data.dropna()\n",
    "\n",
    "# again checking for NULL values\n",
    "print(\"Null Values after dropping:\\n\", data.isna().sum())\n"
   ]
  },
  {
   "cell_type": "code",
   "execution_count": 4,
   "id": "76dc6a4f-a28e-4225-8205-556d5a750885",
   "metadata": {},
   "outputs": [
    {
     "name": "stdout",
     "output_type": "stream",
     "text": [
      "                                               Review  Sentiment\n",
      "0   Fast shipping but this product is very cheaply...          1\n",
      "1   This case takes so long to ship and it's not e...          1\n",
      "2   Good for not droids. Not good for iPhones. You...          1\n",
      "3   The cable was not compatible between my macboo...          1\n",
      "4   The case is nice but did not have a glow light...          1\n",
      "5   The cable keeps coming up with message that th...          1\n",
      "6   This pos broke off in my phone after 3 uses an...          1\n",
      "7   This product suck its hard 2 hear wat other ar...          1\n",
      "8   Music cuts off within 30 secs. I like Aukey's ...          1\n",
      "9   Yeah when they say mirror screen they mean it ...          1\n",
      "10  No power on the AC adapter. Tried several outl...          1\n",
      "11  Purchased product from vendor Outlet. Bought i...          1\n",
      "12  It is very Tedious to get this thing to work a...          1\n",
      "13  Like others before me I was fooled by the init...          1\n",
      "14  Give it one star only because I recieved it in...          1\n",
      "15  The charger stopped working after three weeks ...          1\n",
      "16  This device is being sold under different name...          1\n",
      "17                                         It is cute          1\n",
      "18  It seemed like a great deal! But reality set i...          1\n",
      "19  Ready compatibility that lead me to believe it...          1\n",
      "20  This product failed to work in my Garmin. Garm...          1\n",
      "21  This product worked for about three minutes.  ...          1\n",
      "22  Well i was disappointed that i waited almost a...          1\n",
      "23  stopped working after one week. company refuse...          1\n",
      "24  at 500watts i expected it to be average 50watt...          1\n",
      "25  I bought this a couple of years ago, and start...          1\n",
      "26  This lasted about 45 days. The MP3 player neve...          1\n",
      "27  I felt deceived, I though it was an actually c...          1\n",
      "28  This is damaged fast but use caution you have,...          1\n",
      "29  Extremely un-happy with these speakers i had g...          1\n",
      "30  The headset was damaged and would not work.<br...          1\n",
      "31  I was expecting a case with two pieces that sn...          1\n",
      "32  This product title lists it as fitting a TomTo...          1\n",
      "33  I bought this item for my security job and it ...          1\n",
      "34  Didn't fit right...was a waste of money...shou...          1\n",
      "35  So i ordered 3 chargers and surprisingly, they...          1\n",
      "36  No instructions or info on best way to install...          1\n",
      "37  useless as ticks fallin off a dead dog.  Have ...          1\n",
      "38  I used this watch because of the various funct...          1\n",
      "39  Do not buy it!!! Does not work at all!! Called...          1\n",
      "40  The quality of this product was disappointing....          1\n",
      "41  unfortunately I  found myself in a position  w...          1\n",
      "42  This Ipod armband holder was very poorly made....          1\n",
      "43  Well, I bought this armband to replace an olde...          1\n",
      "44  I bought this GPS and had to return it as it d...          1\n",
      "45  I got this thing so my wife could play it thro...          1\n",
      "46  Unfortunately very delicate.  I'm very careful...          1\n",
      "47  I had this charger plugged into my car for a c...          1\n",
      "48  These are so poorly made! I was so excited bec...          1\n",
      "49  I ordered the 9ft Lightning Cable. I will say ...          1\n"
     ]
    }
   ],
   "source": [
    "#data.isnull()\n",
    "print(data.head(50))"
   ]
  },
  {
   "cell_type": "code",
   "execution_count": 5,
   "id": "6947c512-c3dd-49e2-9fc4-e700f2e8e7aa",
   "metadata": {},
   "outputs": [
    {
     "data": {
      "text/plain": [
       "Sentiment\n",
       "1    5000\n",
       "2    5000\n",
       "3    5000\n",
       "4    5000\n",
       "5    4999\n",
       "Name: count, dtype: int64"
      ]
     },
     "execution_count": 5,
     "metadata": {},
     "output_type": "execute_result"
    }
   ],
   "source": [
    "# count of unique values in Sentiment column\n",
    "data['Sentiment'].value_counts()\n"
   ]
  },
  {
   "cell_type": "code",
   "execution_count": 6,
   "id": "4a792073-fd77-4aef-971e-85f2f0abfdc5",
   "metadata": {},
   "outputs": [
    {
     "name": "stdout",
     "output_type": "stream",
     "text": [
      "showing info https://raw.githubusercontent.com/nltk/nltk_data/gh-pages/index.xml\n"
     ]
    },
    {
     "data": {
      "text/plain": [
       "True"
      ]
     },
     "execution_count": 6,
     "metadata": {},
     "output_type": "execute_result"
    }
   ],
   "source": [
    "import nltk\n",
    "nltk.download()"
   ]
  },
  {
   "cell_type": "code",
   "execution_count": 7,
   "id": "c663de22-d7dd-43fc-8010-d3b58c093dd6",
   "metadata": {},
   "outputs": [
    {
     "name": "stderr",
     "output_type": "stream",
     "text": [
      "[nltk_data] Downloading package stopwords to C:\\Users\\Ali\n",
      "[nltk_data]     Com\\AppData\\Roaming\\nltk_data...\n",
      "[nltk_data]   Package stopwords is already up-to-date!\n",
      "[nltk_data] Downloading package punkt to C:\\Users\\Ali\n",
      "[nltk_data]     Com\\AppData\\Roaming\\nltk_data...\n",
      "[nltk_data]   Package punkt is already up-to-date!\n"
     ]
    },
    {
     "data": {
      "text/plain": [
       "True"
      ]
     },
     "execution_count": 7,
     "metadata": {},
     "output_type": "execute_result"
    }
   ],
   "source": [
    "# downloading stopwords from nltk library\n",
    "nltk.download('stopwords')\n",
    "stop_words = set(stopwords.words('english'))\n",
    "# downloading punkt sentence tokenizer models\n",
    "nltk.download('punkt')"
   ]
  },
  {
   "cell_type": "code",
   "execution_count": 8,
   "id": "545a3d4d-e694-4063-9f45-7705e020766f",
   "metadata": {},
   "outputs": [],
   "source": [
    "# Review text Cleaning\n",
    "def clean_reviews(text):\n",
    "    \n",
    "    # removing html brackets and other square brackets from the string using regex\n",
    "    regex = re.compile('<.*?>') # r'<.*?>'\n",
    "    text = re.sub(regex, '', text)\n",
    "\n",
    "    # removing special characters like @, #, $, etc\n",
    "    pattern = re.compile('[^a-zA-z0-9\\s]')\n",
    "    text = re.sub(pattern,'',text)\n",
    "\n",
    "    # removing numbers\n",
    "    pattern = re.compile('\\d+')\n",
    "    text = re.sub(pattern,'',text)\n",
    "\n",
    "    # converting text to lower case\n",
    "    text = text.lower()\n",
    "    \n",
    "    # Tokenization of words\n",
    "    text = word_tokenize(text)\n",
    "    \n",
    "    # Stop words removal\n",
    "    text = [word for word in text if not word in stop_words]\n",
    "    \n",
    "    return text\n",
    "\n",
    "# using the clean_reviews function on the dataset\n",
    "data['Review'] = data['Review'].apply(clean_reviews)\n"
   ]
  },
  {
   "cell_type": "code",
   "execution_count": 9,
   "id": "9a90eedd-6573-4e15-bb08-25a979c80c63",
   "metadata": {},
   "outputs": [
    {
     "name": "stdout",
     "output_type": "stream",
     "text": [
      "(24999, 500) (24999, 5)\n"
     ]
    }
   ],
   "source": [
    "tokenizer = Tokenizer()\n",
    "\n",
    "# converting all the reviews to list to pass it as a parameter to fit_on_texts\n",
    "reviews_to_list = data['Review'].tolist()\n",
    "tokenizer.fit_on_texts(reviews_to_list)\n",
    "\n",
    "# Generating text sequences\n",
    "text_sequences = tokenizer.texts_to_sequences(reviews_to_list)\n",
    "\n",
    "# setting maximum words we want in an example\n",
    "max_words = 500\n",
    "\n",
    "# Padding sequences \n",
    "# - Before converting to a NumPy array, pad the sequences to ensure they all have the same length.\n",
    "padded_sequences = pad_sequences(text_sequences, maxlen=max_words) # Use the same max_words value\n",
    "\n",
    "text_sequences = np.array(padded_sequences)\n",
    "\n",
    "# one hot encoding\n",
    "data = pd.get_dummies(data, columns = ['Sentiment'])\n",
    "\n",
    "\n",
    "# Generatin our X (input) to the model\n",
    "# using pad_sequences and y (output)\n",
    "X = pad_sequences(text_sequences, maxlen = max_words)\n",
    "y = data[['Sentiment_1', 'Sentiment_2', 'Sentiment_3', 'Sentiment_4',\n",
    "    'Sentiment_5']]\n",
    "print(X.shape, y.shape)\n",
    "\n",
    "# This code is modified by Susobhan Akhuli\n"
   ]
  },
  {
   "cell_type": "code",
   "execution_count": 10,
   "id": "cff2948c-dbbb-4b69-9c20-f45ef1860df0",
   "metadata": {},
   "outputs": [],
   "source": [
    "#print(data.columns)"
   ]
  },
  {
   "cell_type": "code",
   "execution_count": 11,
   "id": "2016fab5-13a2-49cf-8570-ff2c073bc745",
   "metadata": {},
   "outputs": [
    {
     "name": "stdout",
     "output_type": "stream",
     "text": [
      "(19999, 500) (5000, 500) (19999, 5) (5000, 5)\n"
     ]
    }
   ],
   "source": [
    "# Train Test split\n",
    "from sklearn.model_selection import train_test_split\n",
    "X_train, X_test, y_train, y_test = train_test_split(X, y, test_size=0.20, random_state=42)\n",
    "\n",
    "print(X_train.shape, X_test.shape, y_train.shape, y_test.shape)\n"
   ]
  },
  {
   "cell_type": "code",
   "execution_count": 12,
   "id": "4f9af25d-aded-4ab1-b217-84af87f6a930",
   "metadata": {},
   "outputs": [
    {
     "data": {
      "text/html": [
       "<pre style=\"white-space:pre;overflow-x:auto;line-height:normal;font-family:Menlo,'DejaVu Sans Mono',consolas,'Courier New',monospace\"><span style=\"font-weight: bold\">Model: \"Simple_RNN\"</span>\n",
       "</pre>\n"
      ],
      "text/plain": [
       "\u001b[1mModel: \"Simple_RNN\"\u001b[0m\n"
      ]
     },
     "metadata": {},
     "output_type": "display_data"
    },
    {
     "data": {
      "text/html": [
       "<pre style=\"white-space:pre;overflow-x:auto;line-height:normal;font-family:Menlo,'DejaVu Sans Mono',consolas,'Courier New',monospace\">┏━━━━━━━━━━━━━━━━━━━━━━━━━━━━━━━━━━━━━━┳━━━━━━━━━━━━━━━━━━━━━━━━━━━━━┳━━━━━━━━━━━━━━━━━┓\n",
       "┃<span style=\"font-weight: bold\"> Layer (type)                         </span>┃<span style=\"font-weight: bold\"> Output Shape                </span>┃<span style=\"font-weight: bold\">         Param # </span>┃\n",
       "┡━━━━━━━━━━━━━━━━━━━━━━━━━━━━━━━━━━━━━━╇━━━━━━━━━━━━━━━━━━━━━━━━━━━━━╇━━━━━━━━━━━━━━━━━┩\n",
       "│ embedding (<span style=\"color: #0087ff; text-decoration-color: #0087ff\">Embedding</span>)                │ ?                           │     <span style=\"color: #00af00; text-decoration-color: #00af00\">0</span> (unbuilt) │\n",
       "├──────────────────────────────────────┼─────────────────────────────┼─────────────────┤\n",
       "│ simple_rnn (<span style=\"color: #0087ff; text-decoration-color: #0087ff\">SimpleRNN</span>)               │ ?                           │     <span style=\"color: #00af00; text-decoration-color: #00af00\">0</span> (unbuilt) │\n",
       "├──────────────────────────────────────┼─────────────────────────────┼─────────────────┤\n",
       "│ simple_rnn_1 (<span style=\"color: #0087ff; text-decoration-color: #0087ff\">SimpleRNN</span>)             │ ?                           │     <span style=\"color: #00af00; text-decoration-color: #00af00\">0</span> (unbuilt) │\n",
       "├──────────────────────────────────────┼─────────────────────────────┼─────────────────┤\n",
       "│ dense (<span style=\"color: #0087ff; text-decoration-color: #0087ff\">Dense</span>)                        │ ?                           │     <span style=\"color: #00af00; text-decoration-color: #00af00\">0</span> (unbuilt) │\n",
       "└──────────────────────────────────────┴─────────────────────────────┴─────────────────┘\n",
       "</pre>\n"
      ],
      "text/plain": [
       "┏━━━━━━━━━━━━━━━━━━━━━━━━━━━━━━━━━━━━━━┳━━━━━━━━━━━━━━━━━━━━━━━━━━━━━┳━━━━━━━━━━━━━━━━━┓\n",
       "┃\u001b[1m \u001b[0m\u001b[1mLayer (type)                        \u001b[0m\u001b[1m \u001b[0m┃\u001b[1m \u001b[0m\u001b[1mOutput Shape               \u001b[0m\u001b[1m \u001b[0m┃\u001b[1m \u001b[0m\u001b[1m        Param #\u001b[0m\u001b[1m \u001b[0m┃\n",
       "┡━━━━━━━━━━━━━━━━━━━━━━━━━━━━━━━━━━━━━━╇━━━━━━━━━━━━━━━━━━━━━━━━━━━━━╇━━━━━━━━━━━━━━━━━┩\n",
       "│ embedding (\u001b[38;5;33mEmbedding\u001b[0m)                │ ?                           │     \u001b[38;5;34m0\u001b[0m (unbuilt) │\n",
       "├──────────────────────────────────────┼─────────────────────────────┼─────────────────┤\n",
       "│ simple_rnn (\u001b[38;5;33mSimpleRNN\u001b[0m)               │ ?                           │     \u001b[38;5;34m0\u001b[0m (unbuilt) │\n",
       "├──────────────────────────────────────┼─────────────────────────────┼─────────────────┤\n",
       "│ simple_rnn_1 (\u001b[38;5;33mSimpleRNN\u001b[0m)             │ ?                           │     \u001b[38;5;34m0\u001b[0m (unbuilt) │\n",
       "├──────────────────────────────────────┼─────────────────────────────┼─────────────────┤\n",
       "│ dense (\u001b[38;5;33mDense\u001b[0m)                        │ ?                           │     \u001b[38;5;34m0\u001b[0m (unbuilt) │\n",
       "└──────────────────────────────────────┴─────────────────────────────┴─────────────────┘\n"
      ]
     },
     "metadata": {},
     "output_type": "display_data"
    },
    {
     "data": {
      "text/html": [
       "<pre style=\"white-space:pre;overflow-x:auto;line-height:normal;font-family:Menlo,'DejaVu Sans Mono',consolas,'Courier New',monospace\"><span style=\"font-weight: bold\"> Total params: </span><span style=\"color: #00af00; text-decoration-color: #00af00\">0</span> (0.00 B)\n",
       "</pre>\n"
      ],
      "text/plain": [
       "\u001b[1m Total params: \u001b[0m\u001b[38;5;34m0\u001b[0m (0.00 B)\n"
      ]
     },
     "metadata": {},
     "output_type": "display_data"
    },
    {
     "data": {
      "text/html": [
       "<pre style=\"white-space:pre;overflow-x:auto;line-height:normal;font-family:Menlo,'DejaVu Sans Mono',consolas,'Courier New',monospace\"><span style=\"font-weight: bold\"> Trainable params: </span><span style=\"color: #00af00; text-decoration-color: #00af00\">0</span> (0.00 B)\n",
       "</pre>\n"
      ],
      "text/plain": [
       "\u001b[1m Trainable params: \u001b[0m\u001b[38;5;34m0\u001b[0m (0.00 B)\n"
      ]
     },
     "metadata": {},
     "output_type": "display_data"
    },
    {
     "data": {
      "text/html": [
       "<pre style=\"white-space:pre;overflow-x:auto;line-height:normal;font-family:Menlo,'DejaVu Sans Mono',consolas,'Courier New',monospace\"><span style=\"font-weight: bold\"> Non-trainable params: </span><span style=\"color: #00af00; text-decoration-color: #00af00\">0</span> (0.00 B)\n",
       "</pre>\n"
      ],
      "text/plain": [
       "\u001b[1m Non-trainable params: \u001b[0m\u001b[38;5;34m0\u001b[0m (0.00 B)\n"
      ]
     },
     "metadata": {},
     "output_type": "display_data"
    },
    {
     "name": "stdout",
     "output_type": "stream",
     "text": [
      "None\n"
     ]
    }
   ],
   "source": [
    "# Creating a RNN model\n",
    "rnn = Sequential(name=\"Simple_RNN\")\n",
    "rnn.add(Embedding(len(tokenizer.word_index)+1,\n",
    "                        max_words,\n",
    "                        input_length=max_words))\n",
    "\n",
    "rnn.add(SimpleRNN(128,activation='relu',return_sequences=True))\n",
    "\n",
    "rnn.add(SimpleRNN(64,activation='relu',return_sequences=False))\n",
    "\n",
    "rnn.add(Dense(5, activation='softmax'))\n",
    " \n",
    "# printing model summary\n",
    "print(rnn.summary())"
   ]
  },
  {
   "cell_type": "code",
   "execution_count": 26,
   "id": "344a4258-80e0-4da7-9607-9d2f92e3219f",
   "metadata": {},
   "outputs": [
    {
     "name": "stdout",
     "output_type": "stream",
     "text": [
      "Epoch 1/2\n",
      "\u001b[1m313/313\u001b[0m \u001b[32m━━━━━━━━━━━━━━━━━━━━\u001b[0m\u001b[37m\u001b[0m \u001b[1m355s\u001b[0m 1s/step - accuracy: 0.2961 - loss: 1.5490 - val_accuracy: 0.4188 - val_loss: 1.2968\n",
      "Epoch 2/2\n",
      "\u001b[1m313/313\u001b[0m \u001b[32m━━━━━━━━━━━━━━━━━━━━\u001b[0m\u001b[37m\u001b[0m \u001b[1m244s\u001b[0m 780ms/step - accuracy: 0.5499 - loss: 1.0654 - val_accuracy: 0.4322 - val_loss: 1.2876\n",
      "\u001b[1m157/157\u001b[0m \u001b[32m━━━━━━━━━━━━━━━━━━━━\u001b[0m\u001b[37m\u001b[0m \u001b[1m15s\u001b[0m 96ms/step - accuracy: 0.4190 - loss: 1.2916\n",
      "Simple_RNN Score--->  [1.2876243591308594, 0.43220001459121704]\n"
     ]
    }
   ],
   "source": [
    "# Compiling model\n",
    "rnn.compile(\n",
    "    loss=\"categorical_crossentropy\",\n",
    "    optimizer='adam',\n",
    "    metrics=['accuracy']\n",
    ")\n",
    "\n",
    "# Training the model\n",
    "history = rnn.fit(X_train, y_train,\n",
    "                        batch_size=64,\n",
    "                        epochs=2,\n",
    "                        verbose=1, \n",
    "                          validation_data = (X_test, y_test))\n",
    "\n",
    "# Printing model score on test data\n",
    "print(\"Simple_RNN Score---> \", rnn.evaluate(X_test, y_test, verbose=1))\n"
   ]
  },
  {
   "cell_type": "code",
   "execution_count": 28,
   "id": "3dc12d07-3d26-4bd5-bf67-47caaf65ba4e",
   "metadata": {},
   "outputs": [
    {
     "data": {
      "text/html": [
       "<pre style=\"white-space:pre;overflow-x:auto;line-height:normal;font-family:Menlo,'DejaVu Sans Mono',consolas,'Courier New',monospace\"><span style=\"font-weight: bold\">Model: \"LSTM_Model\"</span>\n",
       "</pre>\n"
      ],
      "text/plain": [
       "\u001b[1mModel: \"LSTM_Model\"\u001b[0m\n"
      ]
     },
     "metadata": {},
     "output_type": "display_data"
    },
    {
     "data": {
      "text/html": [
       "<pre style=\"white-space:pre;overflow-x:auto;line-height:normal;font-family:Menlo,'DejaVu Sans Mono',consolas,'Courier New',monospace\">┏━━━━━━━━━━━━━━━━━━━━━━━━━━━━━━━━━━━━━━┳━━━━━━━━━━━━━━━━━━━━━━━━━━━━━┳━━━━━━━━━━━━━━━━━┓\n",
       "┃<span style=\"font-weight: bold\"> Layer (type)                         </span>┃<span style=\"font-weight: bold\"> Output Shape                </span>┃<span style=\"font-weight: bold\">         Param # </span>┃\n",
       "┡━━━━━━━━━━━━━━━━━━━━━━━━━━━━━━━━━━━━━━╇━━━━━━━━━━━━━━━━━━━━━━━━━━━━━╇━━━━━━━━━━━━━━━━━┩\n",
       "│ embedding_1 (<span style=\"color: #0087ff; text-decoration-color: #0087ff\">Embedding</span>)              │ ?                           │     <span style=\"color: #00af00; text-decoration-color: #00af00\">0</span> (unbuilt) │\n",
       "├──────────────────────────────────────┼─────────────────────────────┼─────────────────┤\n",
       "│ lstm (<span style=\"color: #0087ff; text-decoration-color: #0087ff\">LSTM</span>)                          │ ?                           │     <span style=\"color: #00af00; text-decoration-color: #00af00\">0</span> (unbuilt) │\n",
       "├──────────────────────────────────────┼─────────────────────────────┼─────────────────┤\n",
       "│ dropout (<span style=\"color: #0087ff; text-decoration-color: #0087ff\">Dropout</span>)                    │ ?                           │               <span style=\"color: #00af00; text-decoration-color: #00af00\">0</span> │\n",
       "├──────────────────────────────────────┼─────────────────────────────┼─────────────────┤\n",
       "│ dense_1 (<span style=\"color: #0087ff; text-decoration-color: #0087ff\">Dense</span>)                      │ ?                           │     <span style=\"color: #00af00; text-decoration-color: #00af00\">0</span> (unbuilt) │\n",
       "├──────────────────────────────────────┼─────────────────────────────┼─────────────────┤\n",
       "│ dropout_1 (<span style=\"color: #0087ff; text-decoration-color: #0087ff\">Dropout</span>)                  │ ?                           │               <span style=\"color: #00af00; text-decoration-color: #00af00\">0</span> │\n",
       "├──────────────────────────────────────┼─────────────────────────────┼─────────────────┤\n",
       "│ dense_2 (<span style=\"color: #0087ff; text-decoration-color: #0087ff\">Dense</span>)                      │ ?                           │     <span style=\"color: #00af00; text-decoration-color: #00af00\">0</span> (unbuilt) │\n",
       "└──────────────────────────────────────┴─────────────────────────────┴─────────────────┘\n",
       "</pre>\n"
      ],
      "text/plain": [
       "┏━━━━━━━━━━━━━━━━━━━━━━━━━━━━━━━━━━━━━━┳━━━━━━━━━━━━━━━━━━━━━━━━━━━━━┳━━━━━━━━━━━━━━━━━┓\n",
       "┃\u001b[1m \u001b[0m\u001b[1mLayer (type)                        \u001b[0m\u001b[1m \u001b[0m┃\u001b[1m \u001b[0m\u001b[1mOutput Shape               \u001b[0m\u001b[1m \u001b[0m┃\u001b[1m \u001b[0m\u001b[1m        Param #\u001b[0m\u001b[1m \u001b[0m┃\n",
       "┡━━━━━━━━━━━━━━━━━━━━━━━━━━━━━━━━━━━━━━╇━━━━━━━━━━━━━━━━━━━━━━━━━━━━━╇━━━━━━━━━━━━━━━━━┩\n",
       "│ embedding_1 (\u001b[38;5;33mEmbedding\u001b[0m)              │ ?                           │     \u001b[38;5;34m0\u001b[0m (unbuilt) │\n",
       "├──────────────────────────────────────┼─────────────────────────────┼─────────────────┤\n",
       "│ lstm (\u001b[38;5;33mLSTM\u001b[0m)                          │ ?                           │     \u001b[38;5;34m0\u001b[0m (unbuilt) │\n",
       "├──────────────────────────────────────┼─────────────────────────────┼─────────────────┤\n",
       "│ dropout (\u001b[38;5;33mDropout\u001b[0m)                    │ ?                           │               \u001b[38;5;34m0\u001b[0m │\n",
       "├──────────────────────────────────────┼─────────────────────────────┼─────────────────┤\n",
       "│ dense_1 (\u001b[38;5;33mDense\u001b[0m)                      │ ?                           │     \u001b[38;5;34m0\u001b[0m (unbuilt) │\n",
       "├──────────────────────────────────────┼─────────────────────────────┼─────────────────┤\n",
       "│ dropout_1 (\u001b[38;5;33mDropout\u001b[0m)                  │ ?                           │               \u001b[38;5;34m0\u001b[0m │\n",
       "├──────────────────────────────────────┼─────────────────────────────┼─────────────────┤\n",
       "│ dense_2 (\u001b[38;5;33mDense\u001b[0m)                      │ ?                           │     \u001b[38;5;34m0\u001b[0m (unbuilt) │\n",
       "└──────────────────────────────────────┴─────────────────────────────┴─────────────────┘\n"
      ]
     },
     "metadata": {},
     "output_type": "display_data"
    },
    {
     "data": {
      "text/html": [
       "<pre style=\"white-space:pre;overflow-x:auto;line-height:normal;font-family:Menlo,'DejaVu Sans Mono',consolas,'Courier New',monospace\"><span style=\"font-weight: bold\"> Total params: </span><span style=\"color: #00af00; text-decoration-color: #00af00\">0</span> (0.00 B)\n",
       "</pre>\n"
      ],
      "text/plain": [
       "\u001b[1m Total params: \u001b[0m\u001b[38;5;34m0\u001b[0m (0.00 B)\n"
      ]
     },
     "metadata": {},
     "output_type": "display_data"
    },
    {
     "data": {
      "text/html": [
       "<pre style=\"white-space:pre;overflow-x:auto;line-height:normal;font-family:Menlo,'DejaVu Sans Mono',consolas,'Courier New',monospace\"><span style=\"font-weight: bold\"> Trainable params: </span><span style=\"color: #00af00; text-decoration-color: #00af00\">0</span> (0.00 B)\n",
       "</pre>\n"
      ],
      "text/plain": [
       "\u001b[1m Trainable params: \u001b[0m\u001b[38;5;34m0\u001b[0m (0.00 B)\n"
      ]
     },
     "metadata": {},
     "output_type": "display_data"
    },
    {
     "data": {
      "text/html": [
       "<pre style=\"white-space:pre;overflow-x:auto;line-height:normal;font-family:Menlo,'DejaVu Sans Mono',consolas,'Courier New',monospace\"><span style=\"font-weight: bold\"> Non-trainable params: </span><span style=\"color: #00af00; text-decoration-color: #00af00\">0</span> (0.00 B)\n",
       "</pre>\n"
      ],
      "text/plain": [
       "\u001b[1m Non-trainable params: \u001b[0m\u001b[38;5;34m0\u001b[0m (0.00 B)\n"
      ]
     },
     "metadata": {},
     "output_type": "display_data"
    },
    {
     "name": "stdout",
     "output_type": "stream",
     "text": [
      "None\n"
     ]
    }
   ],
   "source": [
    "model = Sequential(name=\"LSTM_Model\")\n",
    "model.add(Embedding(len(tokenizer.word_index)+1, \n",
    "                    max_words, \n",
    "                    input_length=max_words))\n",
    "\n",
    "# adding a LSTM layer \n",
    "model.add(LSTM(150, return_sequences=False))\n",
    "BatchNormalization()\n",
    "model.add(Dropout(0.5))\n",
    "\n",
    "#adding a dense layer with activation function of relu\n",
    "model.add(Dense(50, activation='relu'))\n",
    "BatchNormalization()\n",
    "model.add(Dropout(0.5))\n",
    "\n",
    "# adding the final output activation with activation function of softmax\n",
    "model.add(Dense(5, activation='softmax'))\n",
    "\n",
    "# printing model summary\n",
    "print(model.summary())\n"
   ]
  },
  {
   "cell_type": "code",
   "execution_count": 30,
   "id": "2909fb7c-4570-4d4c-994c-70d0474a72e1",
   "metadata": {},
   "outputs": [
    {
     "name": "stdout",
     "output_type": "stream",
     "text": [
      "Epoch 1/3\n",
      "\u001b[1m313/313\u001b[0m \u001b[32m━━━━━━━━━━━━━━━━━━━━\u001b[0m\u001b[37m\u001b[0m \u001b[1m590s\u001b[0m 2s/step - accuracy: 0.3123 - loss: 1.4908 - val_accuracy: 0.4600 - val_loss: 1.2327\n",
      "Epoch 2/3\n",
      "\u001b[1m313/313\u001b[0m \u001b[32m━━━━━━━━━━━━━━━━━━━━\u001b[0m\u001b[37m\u001b[0m \u001b[1m595s\u001b[0m 2s/step - accuracy: 0.5284 - loss: 1.1115 - val_accuracy: 0.4656 - val_loss: 1.2340\n",
      "Epoch 3/3\n",
      "\u001b[1m313/313\u001b[0m \u001b[32m━━━━━━━━━━━━━━━━━━━━\u001b[0m\u001b[37m\u001b[0m \u001b[1m580s\u001b[0m 2s/step - accuracy: 0.6451 - loss: 0.8916 - val_accuracy: 0.4526 - val_loss: 1.3895\n",
      "\u001b[1m157/157\u001b[0m \u001b[32m━━━━━━━━━━━━━━━━━━━━\u001b[0m\u001b[37m\u001b[0m \u001b[1m39s\u001b[0m 248ms/step - accuracy: 0.4587 - loss: 1.3961\n",
      "LSTM model Score--->  [1.3895008563995361, 0.45260000228881836]\n"
     ]
    }
   ],
   "source": [
    "# Compiling the model\n",
    "model.compile(\n",
    "    loss=\"categorical_crossentropy\",\n",
    "    optimizer='adam',\n",
    "    metrics=['accuracy']\n",
    ")\n",
    "\n",
    "# Training the GRU model\n",
    "history = model.fit(X_train, y_train,\n",
    "                         batch_size=64,\n",
    "                         epochs=3,\n",
    "                         verbose=1,\n",
    "                       validation_data=(X_test, y_test))\n",
    "\n",
    "# Printing model score on test data\n",
    "print(\"LSTM model Score---> \", model.evaluate(X_test, y_test, verbose=1))\n"
   ]
  },
  {
   "cell_type": "code",
   "execution_count": 31,
   "id": "f434abb7-5b1d-4004-9947-4c728fdb2336",
   "metadata": {},
   "outputs": [
    {
     "data": {
      "text/plain": [
       "Text(0, 0.5, 'Accuracy')"
      ]
     },
     "execution_count": 31,
     "metadata": {},
     "output_type": "execute_result"
    },
    {
     "data": {
      "image/png": "[encoded data removed]",
      "text/plain": [
       "<Figure size 1000x500 with 2 Axes>"
      ]
     },
     "metadata": {},
     "output_type": "display_data"
    }
   ],
   "source": [
    "# Plotting the history\n",
    "metrics = history.history\n",
    "plt.figure(figsize=(10, 5))\n",
    "  \n",
    "# Plotting training and validation loss\n",
    "plt.subplot(1, 2, 1)\n",
    "plt.plot(history.epoch, metrics['loss'], metrics['val_loss'])\n",
    "plt.legend(['loss', 'val_loss'])\n",
    "plt.xlabel('Epoch')\n",
    "plt.ylabel('Loss')\n",
    "  \n",
    "# Plotting training and validation accuracy\n",
    "plt.subplot(1, 2, 2)\n",
    "plt.plot(history.epoch, metrics['accuracy'],\n",
    "         metrics['val_accuracy'])\n",
    "plt.legend(['accuracy', 'val_accuracy'])\n",
    "plt.xlabel('Epoch')\n",
    "plt.ylabel('Accuracy')\n"
   ]
  },
  {
   "cell_type": "code",
   "execution_count": 32,
   "id": "5aedeeea-f7c6-43c6-a5c9-6debd24b8cff",
   "metadata": {},
   "outputs": [
    {
     "name": "stdout",
     "output_type": "stream",
     "text": [
      "\u001b[1m157/157\u001b[0m \u001b[32m━━━━━━━━━━━━━━━━━━━━\u001b[0m\u001b[37m\u001b[0m \u001b[1m45s\u001b[0m 284ms/step\n"
     ]
    },
    {
     "data": {
      "image/png": "[encoded data removed]",
      "text/plain": [
       "<Figure size 1000x800 with 2 Axes>"
      ]
     },
     "metadata": {},
     "output_type": "display_data"
    }
   ],
   "source": [
    "# converting y_test tht was one hot encoded to one column fo rconfusion matrix\n",
    "y_true = np.argmax(y_test.values, axis=1)\n",
    "y_true.shape\n",
    "\n",
    "# Confusion matrix\n",
    "y_pred = np.argmax(model.predict(X_test), axis=1)\n",
    "cm = tf.math.confusion_matrix(y_true, y_pred)\n",
    "  \n",
    "# Plotting the confusion matrix\n",
    "plt.figure(figsize=(10, 8))\n",
    "sns.heatmap(cm, annot=True, fmt='g')\n",
    "plt.xlabel('Predicted')\n",
    "plt.ylabel('Actual')\n",
    "plt.show()\n"
   ]
  },
  {
   "cell_type": "code",
   "execution_count": 33,
   "id": "d73aca39-994f-4950-baab-caf7b3438f78",
   "metadata": {},
   "outputs": [
    {
     "name": "stdout",
     "output_type": "stream",
     "text": [
      "              precision    recall  f1-score   support\n",
      "\n",
      "           0       0.55      0.56      0.56      1021\n",
      "           1       0.37      0.41      0.39      1000\n",
      "           2       0.37      0.22      0.28       985\n",
      "           3       0.39      0.47      0.42       973\n",
      "           4       0.56      0.59      0.58      1021\n",
      "\n",
      "    accuracy                           0.45      5000\n",
      "   macro avg       0.45      0.45      0.44      5000\n",
      "weighted avg       0.45      0.45      0.45      5000\n",
      "\n"
     ]
    }
   ],
   "source": [
    "from sklearn.metrics import classification_report\n",
    "report = classification_report(y_true, y_pred)\n",
    "print(report)\n"
   ]
  },
  {
   "cell_type": "code",
   "execution_count": 34,
   "id": "48b4e38f-5d5e-4a87-b8b3-5efdacf201c6",
   "metadata": {},
   "outputs": [
    {
     "name": "stdout",
     "output_type": "stream",
     "text": [
      "\u001b[1m1/1\u001b[0m \u001b[32m━━━━━━━━━━━━━━━━━━━━\u001b[0m\u001b[37m\u001b[0m \u001b[1m0s\u001b[0m 117ms/step\n",
      "The rating according to the review is:  1\n",
      "\u001b[1m1/1\u001b[0m \u001b[32m━━━━━━━━━━━━━━━━━━━━\u001b[0m\u001b[37m\u001b[0m \u001b[1m0s\u001b[0m 127ms/step\n",
      "The rating according to the review is:  5\n"
     ]
    }
   ],
   "source": [
    "def predict_review_rating(text):\n",
    "  text_sequences_test = np.array(tokenizer.texts_to_sequences([text]))\n",
    "  testing = pad_sequences(text_sequences_test, maxlen = max_words)\n",
    "  y_pred_test = np.argmax(model.predict(testing), axis=1)\n",
    "  return y_pred_test[0]+1\n",
    "\n",
    "# Testing\n",
    "rating1 = predict_review_rating('Worst product')\n",
    "print(\"The rating according to the review is: \", rating1)\n",
    "\n",
    "rating2 = predict_review_rating('Awesome product,  I will recommend this to other users.')\n",
    "print(\"The rating according to the review is: \", rating2)\n"
   ]
  },
  {
   "cell_type": "code",
   "execution_count": null,
   "id": "58c22eb2-552a-474b-b185-8a751479c588",
   "metadata": {},
   "outputs": [],
   "source": []
  }
 ],
 "metadata": {
  "kernelspec": {
   "display_name": "Python 3 (ipykernel)",
   "language": "python",
   "name": "python3"
  },
  "language_info": {
   "codemirror_mode": {
    "name": "ipython",
    "version": 3
   },
   "file_extension": ".py",
   "mimetype": "text/x-python",
   "name": "python",
   "nbconvert_exporter": "python",
   "pygments_lexer": "ipython3",
   "version": "3.12.4"
  }
 },
 "nbformat": 4,
 "nbformat_minor": 5
}
